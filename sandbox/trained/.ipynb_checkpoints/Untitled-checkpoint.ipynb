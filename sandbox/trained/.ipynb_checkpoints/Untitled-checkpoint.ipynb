{
 "cells": [
  {
   "cell_type": "markdown",
   "metadata": {},
   "source": [
    "# Fixing predict"
   ]
  },
  {
   "cell_type": "code",
   "execution_count": 1,
   "metadata": {},
   "outputs": [],
   "source": [
    "import numpy as np\n",
    "import pandas as pd\n",
    "import sys\n",
    "\n",
    "embeddings = pd.read_pickle(\"embeddings.pkl\")\n",
    "whales = np.load('raw_predictions.npy')\n",
    "\n",
    "# get array showing for each class where started it's embeddings\n",
    "ids = embeddings['Id'].values\n",
    "last_id, starts = ids[0], [0]\n",
    "for ind, curr_id in enumerate(ids):\n",
    "    if last_id != curr_id:\n",
    "        starts.append(ind)\n",
    "        last_id = curr_id\n",
    "starts.append(len(ids))\n",
    "starts = np.array(starts)"
   ]
  },
  {
   "cell_type": "code",
   "execution_count": 2,
   "metadata": {},
   "outputs": [],
   "source": [
    "embeddings = embeddings.drop(['Id'], axis=1).values\n",
    "mean_dist = np.empty((whales.shape[0], len(starts)), dtype=float)\n",
    "mean_dist[:, 0] = sys.maxsize  # new_whale class: constant"
   ]
  },
  {
   "cell_type": "code",
   "execution_count": 459,
   "metadata": {},
   "outputs": [],
   "source": [
    "#there were computation mistakes before this\n",
    "mean_emb = np.mean(np.concatenate((embeddings, whales), axis=0), axis = 0)\n",
    "whales -= mean_emb\n",
    "embeddings -= mean_emb"
   ]
  },
  {
   "cell_type": "markdown",
   "metadata": {},
   "source": [
    "--- predict we want to fix ---"
   ]
  },
  {
   "cell_type": "code",
   "execution_count": 460,
   "metadata": {},
   "outputs": [
    {
     "name": "stdout",
     "output_type": "stream",
     "text": [
      "(7885, 128)\n",
      "(15845, 128)\n",
      "(15845, 15845)\n",
      "(15845, 1)\n",
      "(7960, 7885)\n",
      "[0.01175699 0.0137426  0.01540905 ... 0.01161361 0.01867516 0.01478532]\n"
     ]
    }
   ],
   "source": [
    "# get 2D array showing mean dist between val embedding and embeddings of group\n",
    "# using stepped calculation to prevent RAM OOM\n",
    "class_offset = 1  # to compensate new_whale (class 0) - first column in mean_dist\n",
    "embeddings_offset = 0\n",
    "splitted_starts = [starts[:len(starts) // 2 + 1], starts[len(starts) // 2:]]\n",
    "for starts in [splitted_starts[0]]:\n",
    "#for starts in splitted_starts:\n",
    "    starts -= embeddings_offset\n",
    "    curr_embeddings = embeddings[starts[0]:starts[-1]]\n",
    "\n",
    "    concat = np.concatenate((curr_embeddings, whales), axis=0)\n",
    "    \n",
    "    prod = np.dot(concat, np.transpose(concat))\n",
    "    sq_norms = np.reshape(np.diag(prod), (-1, 1))\n",
    "\n",
    "    dist = sq_norms - 2.0 * prod + np.transpose(sq_norms)\n",
    "    dist = dist[curr_embeddings.shape[0]:, :curr_embeddings.shape[0]]\n",
    "    dist = np.sqrt(np.maximum(dist, 0.0))\n",
    "    \n",
    "    print(curr_embeddings.shape)\n",
    "    print(concat.shape)\n",
    "    print(prod.shape)\n",
    "    print(sq_norms.shape)    \n",
    "    print(dist.shape)  \n",
    "    \n",
    "    i = 0\n",
    "    print(np.mean(dist[:, starts[i]:starts[i + 1]], axis=1))\n",
    "    res1 = np.mean(dist[:, starts[i]:starts[i + 1]], axis=1)"
   ]
  },
  {
   "cell_type": "markdown",
   "metadata": {},
   "source": [
    "--- same predict but only for class 1 ---"
   ]
  },
  {
   "cell_type": "code",
   "execution_count": 461,
   "metadata": {},
   "outputs": [
    {
     "name": "stdout",
     "output_type": "stream",
     "text": [
      "(1, 128)\n",
      "(7961, 128)\n",
      "(7961, 7961)\n",
      "(7961, 1)\n",
      "(7960, 1)\n",
      "[0.01175699 0.0137426  0.01540905 ... 0.01161345 0.01867506 0.01478532]\n"
     ]
    }
   ],
   "source": [
    "p = 0\n",
    "for starts in [np.array([splitted_starts[0][p], splitted_starts[0][p+1]]) ]:\n",
    "    curr_embeddings = embeddings[starts[0]:starts[-1]]\n",
    "\n",
    "    concat = np.concatenate((curr_embeddings, whales), axis=0)\n",
    "    \n",
    "    prod = np.dot(concat, np.transpose(concat))\n",
    "    sq_norms = np.reshape(np.diag(prod), (-1, 1))\n",
    "\n",
    "    dist = sq_norms - 2.0 * prod + np.transpose(sq_norms)\n",
    "    dist = dist[curr_embeddings.shape[0]:, :curr_embeddings.shape[0]]\n",
    "    dist = np.sqrt(np.maximum(dist, 0.0))\n",
    "    \n",
    "    print(curr_embeddings.shape)\n",
    "    print(concat.shape)\n",
    "    print(prod.shape)\n",
    "    print(sq_norms.shape)    \n",
    "    print(dist.shape)  \n",
    "    \n",
    "    print(np.mean(dist, axis=1))\n",
    "    res2 = np.mean(dist, axis=1)"
   ]
  },
  {
   "cell_type": "markdown",
   "metadata": {},
   "source": [
    "--- same but with scipy ---"
   ]
  },
  {
   "cell_type": "code",
   "execution_count": 469,
   "metadata": {},
   "outputs": [],
   "source": [
    "p = 0\n",
    "for starts in [np.array([splitted_starts[0][p], splitted_starts[0][p+1]]) ]:\n",
    "    curr_embeddings = embeddings[starts[0]:starts[-1]]\n",
    "    res3 = np.linalg.norm(whales - curr_embeddings[0], axis = 1)"
   ]
  },
  {
   "cell_type": "code",
   "execution_count": 470,
   "metadata": {},
   "outputs": [
    {
     "data": {
      "text/plain": [
       "array([0.01175668, 0.01374262, 0.01540905, ..., 0.01161356, 0.01867518,\n",
       "       0.01478527], dtype=float32)"
      ]
     },
     "execution_count": 470,
     "metadata": {},
     "output_type": "execute_result"
    }
   ],
   "source": [
    "res3"
   ]
  },
  {
   "cell_type": "code",
   "execution_count": 471,
   "metadata": {},
   "outputs": [
    {
     "data": {
      "text/plain": [
       "array([0.01175699, 0.0137426 , 0.01540905, ..., 0.01161361, 0.01867516,\n",
       "       0.01478532], dtype=float32)"
      ]
     },
     "execution_count": 471,
     "metadata": {},
     "output_type": "execute_result"
    }
   ],
   "source": [
    "res1"
   ]
  },
  {
   "cell_type": "code",
   "execution_count": 472,
   "metadata": {},
   "outputs": [
    {
     "data": {
      "text/plain": [
       "0"
      ]
     },
     "execution_count": 472,
     "metadata": {},
     "output_type": "execute_result"
    }
   ],
   "source": [
    "np.where((res1 - res2 > 0.00001))[0].shape[0]"
   ]
  },
  {
   "cell_type": "code",
   "execution_count": 473,
   "metadata": {},
   "outputs": [
    {
     "data": {
      "text/plain": [
       "0"
      ]
     },
     "execution_count": 473,
     "metadata": {},
     "output_type": "execute_result"
    }
   ],
   "source": [
    "np.where((res1 - res3 > 0.00001))[0].shape[0]"
   ]
  },
  {
   "cell_type": "code",
   "execution_count": 474,
   "metadata": {},
   "outputs": [],
   "source": [
    "from scipy.spatial import distance\n",
    "\n",
    "dist = distance.cdist(whales, embeddings[:10], 'euclidean')"
   ]
  },
  {
   "cell_type": "code",
   "execution_count": 475,
   "metadata": {},
   "outputs": [
    {
     "data": {
      "text/plain": [
       "array([0.01175668, 0.01374262, 0.01540905, ..., 0.01161356, 0.01867518,\n",
       "       0.01478527])"
      ]
     },
     "execution_count": 475,
     "metadata": {},
     "output_type": "execute_result"
    }
   ],
   "source": [
    "dist[:, 0]"
   ]
  },
  {
   "cell_type": "markdown",
   "metadata": {},
   "source": [
    "It's ok now!"
   ]
  },
  {
   "cell_type": "markdown",
   "metadata": {},
   "source": [
    "# Checking embeddings are collapsed"
   ]
  },
  {
   "cell_type": "code",
   "execution_count": 1,
   "metadata": {},
   "outputs": [],
   "source": [
    "import numpy as np\n",
    "import pandas as pd\n",
    "import sys\n",
    "\n",
    "embeddings = pd.read_pickle(\"embeddings.pkl\")\n",
    "embeddings = embeddings.drop(['Id'], axis=1).values\n",
    "whales = np.load('raw_predictions.npy')\n",
    "\n",
    "mean_emb = np.mean(np.concatenate((embeddings, whales), axis=0), axis=0)"
   ]
  },
  {
   "cell_type": "code",
   "execution_count": 2,
   "metadata": {},
   "outputs": [
    {
     "data": {
      "text/plain": [
       "array([   35.185368 ,   588.4183   ,   146.53278  ,  -516.9568   ,\n",
       "       -1095.1044   ,   847.2858   ,   863.03076  ,   260.9789   ,\n",
       "         799.50104  ,   101.32626  ,  -543.7229   ,   140.85608  ,\n",
       "          34.792057 ,  -893.01306  ,  -282.2807   ,   598.01526  ,\n",
       "       -1771.527    ,   769.5286   ,  -663.92316  ,  -235.6551   ,\n",
       "         -27.250784 ,    23.282343 ,  -527.0979   ,  -228.61838  ,\n",
       "         369.523    ,  -466.30685  ,   195.08673  ,  -455.1446   ,\n",
       "        -315.57278  ,     7.9976273,  1817.505    ,   794.0997   ,\n",
       "        -330.05298  ,   229.52522  ,  -425.38358  ,   927.7555   ,\n",
       "         479.65186  ,   383.99796  , -1108.0277   ,  -748.52856  ,\n",
       "        -701.66327  ,   213.79466  ,   354.54498  ,  -427.03995  ,\n",
       "         687.25934  ,  -405.96417  ,  -449.22244  ,  -330.4601   ,\n",
       "         924.6689   ,  -319.75583  ,   590.80035  ,    58.154484 ,\n",
       "         -71.59812  ,   535.1442   ,   238.516    ,  -888.861    ,\n",
       "          28.24076  ,   586.5179   ,  1430.151    ,  -671.74274  ,\n",
       "        -475.0164   ,  -845.255    ,  1029.2671   ,  -344.10144  ,\n",
       "         731.14307  , -1382.9738   ,  -665.0383   , -1264.5469   ,\n",
       "         -59.26736  ,   216.54514  ,   508.99738  ,  -328.51175  ,\n",
       "         859.5823   ,  -544.1088   ,  -528.8791   ,   564.52954  ,\n",
       "         623.0499   ,    81.61989  ,   281.05402  ,    13.350512 ,\n",
       "        -752.57043  ,   330.61722  ,   -17.698792 ,  -736.13416  ,\n",
       "        -511.27448  ,  -366.1258   ,   412.09134  ,  -198.00923  ,\n",
       "         935.2547   ,  -608.94055  ,   406.4504   ,  -789.3284   ,\n",
       "        -810.19763  ,   576.46564  ,   849.89557  ,  -859.7128   ,\n",
       "        1312.2194   ,   588.92456  ,   711.55054  ,    -9.273383 ,\n",
       "        -537.69745  ,    91.82913  ,  -361.07315  ,  1168.3583   ,\n",
       "         166.37166  ,   115.356316 ,   782.33716  ,   877.28656  ,\n",
       "        -240.7299   ,   100.17492  ,   849.2892   ,   445.2232   ,\n",
       "        -383.80743  ,  -428.8855   ,   879.63043  ,   185.27144  ,\n",
       "        1151.423    ,  -788.4551   ,   652.5931   ,   509.80936  ,\n",
       "         -92.650665 ,   280.99203  ,   -92.297646 ,  -285.57773  ,\n",
       "        -374.78128  ,     4.020345 ,  -343.85297  ,  -410.5484   ],\n",
       "      dtype=float32)"
      ]
     },
     "execution_count": 2,
     "metadata": {},
     "output_type": "execute_result"
    }
   ],
   "source": [
    "mean_emb"
   ]
  },
  {
   "cell_type": "code",
   "execution_count": 14,
   "metadata": {},
   "outputs": [
    {
     "data": {
      "text/plain": [
       "(0,)"
      ]
     },
     "execution_count": 14,
     "metadata": {},
     "output_type": "execute_result"
    }
   ],
   "source": [
    "np.where(embeddings - mean_emb > 0.05)[0].shape"
   ]
  },
  {
   "cell_type": "code",
   "execution_count": 13,
   "metadata": {},
   "outputs": [
    {
     "data": {
      "text/plain": [
       "(0,)"
      ]
     },
     "execution_count": 13,
     "metadata": {},
     "output_type": "execute_result"
    }
   ],
   "source": [
    "np.where(whales - mean_emb > 0.05)[0].shape"
   ]
  },
  {
   "cell_type": "code",
   "execution_count": null,
   "metadata": {},
   "outputs": [],
   "source": []
  }
 ],
 "metadata": {
  "kernelspec": {
   "display_name": "Python 3",
   "language": "python",
   "name": "python3"
  },
  "language_info": {
   "codemirror_mode": {
    "name": "ipython",
    "version": 3
   },
   "file_extension": ".py",
   "mimetype": "text/x-python",
   "name": "python",
   "nbconvert_exporter": "python",
   "pygments_lexer": "ipython3",
   "version": "3.6.0"
  }
 },
 "nbformat": 4,
 "nbformat_minor": 2
}
